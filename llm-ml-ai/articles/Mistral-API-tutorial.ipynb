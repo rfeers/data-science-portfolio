{
 "cells": [
  {
   "cell_type": "code",
   "execution_count": 1,
   "metadata": {},
   "outputs": [],
   "source": [
    "# %pip install mistralai\n",
    "# %pip install python-dotenv"
   ]
  },
  {
   "cell_type": "markdown",
   "metadata": {},
   "source": [
    "# MISTRAL TUTORIAL"
   ]
  },
  {
   "cell_type": "markdown",
   "metadata": {},
   "source": [
    "**Requirements**\n",
    "\n",
    "For this tutorial, the following libraries are needed: \n",
    "- To store the API key, we will be using the `dotenv`library,\n",
    "- Throughout the whole tutorial, we will be using the `mistralai` library. "
   ]
  },
  {
   "cell_type": "markdown",
   "metadata": {},
   "source": [
    "## Setting Up Your Environment\n"
   ]
  },
  {
   "cell_type": "code",
   "execution_count": 2,
   "metadata": {},
   "outputs": [],
   "source": [
    "import os\n",
    "from dotenv import load_dotenv\n",
    "\n",
    "\n",
    "# Load environment variables from the .env file\n",
    "load_dotenv()\n",
    "\n",
    "# Access the API key using os.getenv\n",
    "api_key = os.getenv(\"MISTRAL_API_KEY\")"
   ]
  },
  {
   "cell_type": "markdown",
   "metadata": {},
   "source": [
    "## Initializing the model"
   ]
  },
  {
   "cell_type": "code",
   "execution_count": 3,
   "metadata": {},
   "outputs": [],
   "source": [
    "from mistralai.client import MistralClient\n",
    "from mistralai.models.chat_completion import ChatMessage\n",
    "\n",
    "model = \"mistral-large-latest\"\n",
    "\n",
    "\n",
    "client = MistralClient(api_key=api_key)\n",
    "\n",
    "def chat_mistral(prompt: str):\n",
    "    messages = [\n",
    "        ChatMessage(role=\"user\", content=prompt)\n",
    "    ]\n",
    "\n",
    "    # No streaming\n",
    "    chat_response = client.chat(\n",
    "        model=model,\n",
    "        messages=messages,\n",
    "    )\n",
    "\n",
    "    return chat_response.choices[0].message.content"
   ]
  },
  {
   "cell_type": "markdown",
   "metadata": {},
   "source": [
    "## Practical Applications of Mistral Large"
   ]
  },
  {
   "cell_type": "markdown",
   "metadata": {},
   "source": [
    "### 1 - Text Generation and Processing\n"
   ]
  },
  {
   "cell_type": "markdown",
   "metadata": {},
   "source": [
    "### 1.1 Text Generation"
   ]
  },
  {
   "cell_type": "code",
   "execution_count": 4,
   "metadata": {},
   "outputs": [
    {
     "name": "stdout",
     "output_type": "stream",
     "text": [
      "Once upon a time, in a bustling city filled with towering skyscrapers and endless traffic, there existed a small, quaint bookstore named \"Whispers of the Past\". This wasn't an ordinary bookstore; it was a magical sanctuary that held the power to transport its visitors into the world of stories.\n",
      "\n",
      "The bookstore was run by an elderly woman named Mrs. Eleanor. She was a petite woman with a warm smile and sparkling eyes that held a thousand untold tales. Her love for books was infectious, and anyone who stepped into her store was instantly drawn into the enchanting world she had created.\n",
      "\n",
      "One day, a young boy named Sam wandered into the store. He was new to the city, having recently moved from a small town, and was finding it hard to adjust to the hustle and bustle of city life. Sam was a quiet, introverted boy who found solace in books. As he stepped into \"Whispers of the Past\", he felt an immediate sense of belonging.\n",
      "\n",
      "Mrs. Eleanor, noticing the boy's fascination with her store, approached him with a kind smile. She handed him a book titled \"The Adventures of Captain Oliver\". As Sam touched the book, he felt a strange warmth coursing through his veins. Before he knew it, he was no longer standing in the bookstore but was aboard a majestic pirate ship, sailing in the middle of the ocean.\n",
      "\n",
      "Sam spent what felt like hours in the world of Captain Oliver, experiencing a thrilling adventure filled with danger, mystery, and excitement. When he returned to reality, he found himself back in the bookstore, the book clutched tightly in his hands. He looked up to see Mrs. Eleanor watching him with a knowing smile.\n",
      "\n",
      "From that day forward, Sam became a regular at \"Whispers of the Past\". Each book he touched transported him into a new world, offering him an escape from the harsh realities of city life. Through these magical adventures, Sam found the courage to face his challenges and gradually began to love his new home.\n",
      "\n",
      "And so, the tale of Sam and the magical bookstore \"Whispers of the Past\" became a cherished legend in the city. For anyone who stepped into its doors, the bookstore was not just a place to buy books, but a gateway to a world of imagination and adventure. And as for Sam, he learned that sometimes, all it takes to find your place in the world is a little bit of magic.\n"
     ]
    }
   ],
   "source": [
    "# Starting prompt for a fairytale poem\n",
    "prompt = \"\"\"Write a short story starting with \"Once upon a time\" \"\"\"\n",
    "print(chat_mistral(prompt))\n"
   ]
  },
  {
   "cell_type": "markdown",
   "metadata": {},
   "source": [
    "### 1.2 Sentiment Analysis:"
   ]
  },
  {
   "cell_type": "code",
   "execution_count": 5,
   "metadata": {},
   "outputs": [
    {
     "name": "stdout",
     "output_type": "stream",
     "text": [
      "{\n",
      "  \"Sentiment\": \"Positive\",\n",
      "  \"Text\": \"This movie was absolutely fantastic! I highly recommend it.\"\n",
      "}\n"
     ]
    }
   ],
   "source": [
    "# Sample text\n",
    "text = \"This movie was absolutely fantastic! I highly recommend it.\"\n",
    "\n",
    "prompt = f\"\"\"Analyze the sentime of the following {text}.\n",
    "Generate a json like response with the corresponding sentiment (positive, neutral or negatie).\n",
    "\n",
    "\"\"\"\n",
    "print(chat_mistral(prompt))\n"
   ]
  },
  {
   "cell_type": "markdown",
   "metadata": {},
   "source": [
    "### 1.3 Text Summarization:"
   ]
  },
  {
   "cell_type": "code",
   "execution_count": 6,
   "metadata": {},
   "outputs": [
    {
     "name": "stdout",
     "output_type": "stream",
     "text": [
      "Fox jumps, rain falls.\n",
      "\n",
      "(Summarizing two sentences into three words while retaining the essence of both can be challenging, as it may lead to loss of context. Therefore, I summarized each sentence separately.)\n",
      "\n",
      "For the longer sentence, more context is needed to provide an accurate three-word summary.\n"
     ]
    }
   ],
   "source": [
    "# Sample text\n",
    "text = \"\"\"The quick brown fox jumps over the lazy dog. The rain in Spain falls mainly on the plain. \n",
    "This is a longer sentence to show summarization capabilities.\"\"\"\n",
    "\n",
    "prompt = f\"\"\"Summarize in 3 words the following {text}.\n",
    "\"\"\"\n",
    "print(chat_mistral(prompt))"
   ]
  },
  {
   "cell_type": "markdown",
   "metadata": {},
   "source": [
    "### 1.4 Translation"
   ]
  },
  {
   "cell_type": "code",
   "execution_count": 7,
   "metadata": {},
   "outputs": [
    {
     "name": "stdout",
     "output_type": "stream",
     "text": [
      "The quick brown fox jumps over the lazy dog. The rain in Spain falls mainly on the plain.\n",
      "Translation to Spanish:\n",
      "El rápido zorro marrón salta sobre el perro perezoso. La lluvia en España cae principalmente en la llanura.\n",
      "\n",
      "This is a longer sentence to show summarization capabilities.\n",
      "Translation to Spanish:\n",
      "Esta es una oración más larga para mostrar las capacidades de resumen.\n"
     ]
    }
   ],
   "source": [
    "# Sample text\n",
    "text = \"\"\"The quick brown fox jumps over the lazy dog. The rain in Spain falls mainly on the plain. \n",
    "This is a longer sentence to show summarization capabilities.\"\"\"\n",
    "\n",
    "language_in = \"english\"\n",
    "language_out = \"spanish\"\n",
    "\n",
    "prompt = f\"\"\"Translate the following {text} that is written in {language_in} to {language_out} and \n",
    "just output the translated text. \n",
    "\"\"\"\n",
    "print(chat_mistral(prompt))"
   ]
  },
  {
   "cell_type": "markdown",
   "metadata": {},
   "source": [
    "### 2 - Code Generation and Mathematical Problem Solving\n",
    "\n"
   ]
  },
  {
   "cell_type": "markdown",
   "metadata": {},
   "source": [
    "### Code Generation in Python"
   ]
  },
  {
   "cell_type": "code",
   "execution_count": 8,
   "metadata": {},
   "outputs": [
    {
     "name": "stdout",
     "output_type": "stream",
     "text": [
      "Sure, I can help you define the function `sum_of_squares`. This function should take a list of numbers as an argument, square each number, and then return the sum of those squares. Here's how you could do it:\n",
      "\n",
      "```python\n",
      "def sum_of_squares(numbers):\n",
      "    return sum(num ** 2 for num in numbers)\n",
      "```\n",
      "\n",
      "This function uses a generator expression to square each number in the list, and then it uses the built-in `sum` function to add up those squares. Now, if you call this function with your sample list `[1, 2, 3]`, it will indeed return `14`, which is the sum of 1^2, 2^2, and 3^2.\n"
     ]
    }
   ],
   "source": [
    "\n",
    "\n",
    "# Prompt: Generate a Python function that takes a list of numbers and returns the sum of squares.\n",
    "\n",
    "prompt = \"\"\"def sum_of_squares(numbers):\n",
    "    # Your code here\n",
    "    pass\n",
    "\n",
    "# Call the generated function with a sample list\n",
    "numbers = [1, 2, 3]\n",
    "result = sum_of_squares(numbers)\n",
    "\n",
    "print(f\"Sum of squares: {result}\")  # Expected output: Sum of squares: 14\"\"\"\n",
    "\n",
    "print(chat_mistral(prompt))\n"
   ]
  },
  {
   "cell_type": "markdown",
   "metadata": {},
   "source": [
    "### Mathematical Problem Solving "
   ]
  },
  {
   "cell_type": "code",
   "execution_count": 9,
   "metadata": {},
   "outputs": [
    {
     "name": "stdout",
     "output_type": "stream",
     "text": [
      "Sure, I'd be happy to help you solve this system of equations. We can use the method of substitution or elimination. I'll use substitution for this example.\n",
      "\n",
      "First, let's solve the first equation for x:\n",
      "\n",
      "x = 5 - 2y\n",
      "\n",
      "Now, we can substitute x in the second equation with the expression we just found:\n",
      "\n",
      "3(5 - 2y) - y = 1\n",
      "\n",
      "Expanding and simplifying this gives:\n",
      "\n",
      "15 - 6y - y = 1\n",
      "-7y = 1 - 15\n",
      "-7y = -14\n",
      "\n",
      "Now, divide both sides by -7 to solve for y:\n",
      "\n",
      "y = -14 / -7\n",
      "y = 2\n",
      "\n",
      "Substitute y = 2 into the first equation:\n",
      "\n",
      "x + 2(2) = 5\n",
      "x + 4 = 5\n",
      "x = 5 - 4\n",
      "x = 1\n",
      "\n",
      "So, the solution to the system of equations is x = 1 and y = 2.\n"
     ]
    }
   ],
   "source": [
    "# Prompt: Solve a system of linear equations with two variables.\n",
    "\n",
    "prompt = \"\"\"We have a system of equations:\n",
    "  x + 2y = 5\n",
    "  3x - y = 1\n",
    "\n",
    "Solve for x and y.\n",
    "\"\"\"\n",
    "\n",
    "print(chat_mistral(prompt))\n"
   ]
  }
 ],
 "metadata": {
  "kernelspec": {
   "display_name": ".venv",
   "language": "python",
   "name": "python3"
  },
  "language_info": {
   "codemirror_mode": {
    "name": "ipython",
    "version": 3
   },
   "file_extension": ".py",
   "mimetype": "text/x-python",
   "name": "python",
   "nbconvert_exporter": "python",
   "pygments_lexer": "ipython3",
   "version": "3.10.11"
  }
 },
 "nbformat": 4,
 "nbformat_minor": 2
}
